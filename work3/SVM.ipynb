{
 "cells": [
  {
   "cell_type": "code",
   "execution_count": 26,
   "metadata": {},
   "outputs": [],
   "source": [
    "from sklearn import svm\n",
    "from torch.utils.data import Dataset\n",
    "import cv2 as cv\n",
    "import os"
   ]
  },
  {
   "cell_type": "code",
   "execution_count": 29,
   "metadata": {},
   "outputs": [],
   "source": [
    "class MyDS(Dataset):\n",
    "    def __init__(self, path):\n",
    "        self.root = path\n",
    "        # 进入omniglot文件夹\n",
    "        self.f = [\n",
    "            os.path.join(self.root, f)\n",
    "            for f in os.listdir(self.root)\n",
    "            if os.path.isdir(os.path.join(self.root, f))\n",
    "        ]\n",
    "        print(self.f)\n",
    "        # 获取omniglot下的子文件夹\n",
    "        self.fpath = []\n",
    "        for dir in self.f:\n",
    "            self.fpath.append(\n",
    "                os.path.join(dir, file) for file in os.listdir(dir) if os.path.isdir(os.path.join(dir, file))\n",
    "            )\n",
    "        print(self.fpath)\n",
    "        # 获取子文件夹下的character子文件夹\n",
    "        self.characters = []\n",
    "        for dir1 in self.fpath:\n",
    "            self.characters.append(\n",
    "                os.path.join(dir1, c) for c in os.listdir(dir1) if os.path.isdir(os.path.join(dir1, c))\n",
    "            )\n",
    "        # 获取图片路径与label\n",
    "        images = []\n",
    "        labels = []\n",
    "        for dir2 in self.characters:\n",
    "            img_path = [\n",
    "                os.path.join(dir2, i) for i in os.listdir(dir2) if os.path.isdir(os.path.join(dir2, i))\n",
    "            ]\n",
    "            images.append(img_path)\n",
    "            \n",
    "            for n in os.listdir(dir):\n",
    "                sp = n.split('_')\n",
    "                label = sp[0]\n",
    "            if label not in labels:\n",
    "                labels.append(label)\n",
    "                \n",
    "        self.images = images\n",
    "        self.labels = labels\n",
    "    \n",
    "    def __len__(self):\n",
    "        return len(self.images)\n",
    "    \n",
    "    def __getitem__(self, idx):\n",
    "        image = cv.imread(self.images[idx])\n",
    "        label = self.labels[idx]\n",
    "        return image, label"
   ]
  },
  {
   "cell_type": "code",
   "execution_count": 30,
   "metadata": {},
   "outputs": [
    {
     "name": "stdout",
     "output_type": "stream",
     "text": [
      "['/home/nekozo/newSpace/modelData/omniglot/omniglot/images_evaluation', '/home/nekozo/newSpace/modelData/omniglot/omniglot/images_background']\n",
      "[<generator object MyDS.__init__.<locals>.<genexpr> at 0x7fb4de82b240>, <generator object MyDS.__init__.<locals>.<genexpr> at 0x7fb4de82b340>]\n"
     ]
    },
    {
     "ename": "TypeError",
     "evalue": "listdir: path should be string, bytes, os.PathLike, integer or None, not generator",
     "output_type": "error",
     "traceback": [
      "\u001b[0;31m---------------------------------------------------------------------------\u001b[0m",
      "\u001b[0;31mTypeError\u001b[0m                                 Traceback (most recent call last)",
      "Cell \u001b[0;32mIn[30], line 1\u001b[0m\n\u001b[0;32m----> 1\u001b[0m trn_ds \u001b[38;5;241m=\u001b[39m \u001b[43mMyDS\u001b[49m\u001b[43m(\u001b[49m\u001b[38;5;124;43m\"\u001b[39;49m\u001b[38;5;124;43m/home/nekozo/newSpace/modelData/omniglot/omniglot\u001b[39;49m\u001b[38;5;124;43m\"\u001b[39;49m\u001b[43m)\u001b[49m\n",
      "Cell \u001b[0;32mIn[29], line 22\u001b[0m, in \u001b[0;36mMyDS.__init__\u001b[0;34m(self, path)\u001b[0m\n\u001b[1;32m     19\u001b[0m \u001b[38;5;28mself\u001b[39m\u001b[38;5;241m.\u001b[39mcharacters \u001b[38;5;241m=\u001b[39m []\n\u001b[1;32m     20\u001b[0m \u001b[38;5;28;01mfor\u001b[39;00m dir1 \u001b[38;5;129;01min\u001b[39;00m \u001b[38;5;28mself\u001b[39m\u001b[38;5;241m.\u001b[39mfpath:\n\u001b[1;32m     21\u001b[0m     \u001b[38;5;28mself\u001b[39m\u001b[38;5;241m.\u001b[39mcharacters\u001b[38;5;241m.\u001b[39mappend(\n\u001b[0;32m---> 22\u001b[0m         os\u001b[38;5;241m.\u001b[39mpath\u001b[38;5;241m.\u001b[39mjoin(dir1, c) \u001b[38;5;28;01mfor\u001b[39;00m c \u001b[38;5;129;01min\u001b[39;00m \u001b[43mos\u001b[49m\u001b[38;5;241;43m.\u001b[39;49m\u001b[43mlistdir\u001b[49m\u001b[43m(\u001b[49m\u001b[43mdir1\u001b[49m\u001b[43m)\u001b[49m \u001b[38;5;28;01mif\u001b[39;00m os\u001b[38;5;241m.\u001b[39mpath\u001b[38;5;241m.\u001b[39misdir(os\u001b[38;5;241m.\u001b[39mpath\u001b[38;5;241m.\u001b[39mjoin(dir1, c))\n\u001b[1;32m     23\u001b[0m     )\n\u001b[1;32m     24\u001b[0m \u001b[38;5;66;03m# 获取图片路径与label\u001b[39;00m\n\u001b[1;32m     25\u001b[0m images \u001b[38;5;241m=\u001b[39m []\n",
      "\u001b[0;31mTypeError\u001b[0m: listdir: path should be string, bytes, os.PathLike, integer or None, not generator"
     ]
    }
   ],
   "source": [
    "trn_ds = MyDS(\"/home/nekozo/newSpace/modelData/omniglot/omniglot\")"
   ]
  }
 ],
 "metadata": {
  "kernelspec": {
   "display_name": "pytorch",
   "language": "python",
   "name": "python3"
  },
  "language_info": {
   "codemirror_mode": {
    "name": "ipython",
    "version": 3
   },
   "file_extension": ".py",
   "mimetype": "text/x-python",
   "name": "python",
   "nbconvert_exporter": "python",
   "pygments_lexer": "ipython3",
   "version": "3.11.5"
  }
 },
 "nbformat": 4,
 "nbformat_minor": 2
}
