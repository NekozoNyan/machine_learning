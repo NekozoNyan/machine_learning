{
 "cells": [
  {
   "cell_type": "code",
   "execution_count": 67,
   "metadata": {},
   "outputs": [],
   "source": [
    "import scipy.io\n",
    "from sklearn.model_selection import train_test_split\n",
    "from sklearn.preprocessing import LabelBinarizer\n",
    "from sklearn.metrics import accuracy_score\n",
    "import torch\n",
    "import numpy as np"
   ]
  },
  {
   "cell_type": "code",
   "execution_count": 42,
   "metadata": {},
   "outputs": [],
   "source": [
    "# 分割数据集（无用）\n",
    "def data_split(data, test_size):\n",
    "    trn_data = {}\n",
    "    val_data = {}\n",
    "\n",
    "    for label, data in data.items():\n",
    "        lens = len(data[label])\n",
    "        print(lens)\n",
    "        trn_data[label] = data[: lens * (1 - test_size)]\n",
    "        val_data[label] = data[lens * (1 - test_size) :]\n",
    "    \n",
    "    return trn_data, val_data"
   ]
  },
  {
   "cell_type": "code",
   "execution_count": 62,
   "metadata": {},
   "outputs": [],
   "source": [
    "device = \"cuda\" if torch.cuda.is_available() else \"cpu\""
   ]
  },
  {
   "cell_type": "code",
   "execution_count": 66,
   "metadata": {},
   "outputs": [
    {
     "name": "stdout",
     "output_type": "stream",
     "text": [
      "<class 'torch.Tensor'>\n",
      "<class 'torch.Tensor'>\n",
      "1000\n"
     ]
    }
   ],
   "source": [
    "# 读取mat\n",
    "trn_mat = scipy.io.loadmat(\"data/train_data.mat\")\n",
    "trn_data = trn_mat[\"train\"]\n",
    "# print(len(trn_data))\n",
    "x_len = len(trn_data)\n",
    "\n",
    "# 标注数据label\n",
    "trn_label = [i + 1 for i in range(x_len)]\n",
    "# print(trn_label)\n",
    "\n",
    "# 将label与data组合为字典\n",
    "trn_dict = {}\n",
    "for i in range(x_len):\n",
    "    trn_dict[i+1] = torch.tensor(trn_data[i])\n",
    "# print(len(trn_dict))\n",
    "print(type(trn_dict[1]))\n",
    "\n",
    "# 读取测试集\n",
    "val_mat = scipy.io.loadmat('data/test_data.mat')\n",
    "val_data = torch.tensor(val_mat['test'])\n",
    "val_data = val_data\n",
    "print(type(val_data[1]))\n",
    "print(len(val_data))"
   ]
  },
  {
   "cell_type": "code",
   "execution_count": 68,
   "metadata": {},
   "outputs": [],
   "source": [
    "# 定义SVM\n",
    "class LinearSVM:\n",
    "    # 定义学习率、正则化强度、迭代次数\n",
    "    def __init__(self, lr=1e-3, reg=1e-5, num_iter=100):\n",
    "        self.lr = lr\n",
    "        self.reg = reg\n",
    "        self.num_iter = num_iter\n",
    "        \n",
    "    # 计算损失和梯度\n",
    "    def compute_loss_and_grad(self, x, y):\n",
    "        num_trn = x.shape[0]\n",
    "        num_cls = np.max(y) # 样本类别的数量，在预处理数据时已+1，此处无需+1\n",
    "        scores = x.dot(self.W)  # 获取分数矩阵\n",
    "        correct_cls_scores = scores[np.arange(num_trn), y]  # \n",
    "        \n",
    "        margins = np.maximum(0, scores - correct_cls_scores[:, np.newaxis] + 1)\n",
    "        margins[np.arange(num_trn), y] = 0\n",
    "        loss = np.sum(margins) / num_trn\n",
    "        loss += 0.5 * self.reg * np.sum(self.W * self.W)\n",
    "        \n",
    "        margins[margins>0] = 1\n",
    "        margins[np.arange(num_trn), y] = -np.sum(margins, axis=1)\n",
    "        dW = x.T.dot(margins) / num_trn\n",
    "        dW += self.reg * self.W\n",
    "        \n",
    "        return loss, dW\n",
    "\n",
    "    # 训练\n",
    "    def fit(self, x, y):\n",
    "        num_trn, dim = x.shape\n",
    "        num_cls = np.max(y) + 1\n",
    "        self.W = 0.001 * np.random.randn(dim, num_cls)\n",
    "\n",
    "        for i in range(self.num_iter):\n",
    "            loss, grad = self.compute_loss_and_grad(x, y)\n",
    "            self.W -= self.lr * grad\n",
    "            if i % 10 == 0:\n",
    "                print(f\"Iteration {i}/{self.num_iter}, Loss: {loss}\")\n",
    "                \n",
    "    # 预测\n",
    "    def predict(self, x):\n",
    "        scores = x.dot(self.W)\n",
    "        return x.argmax(scores, axis=1)"
   ]
  }
 ],
 "metadata": {
  "kernelspec": {
   "display_name": "pytorch",
   "language": "python",
   "name": "python3"
  },
  "language_info": {
   "codemirror_mode": {
    "name": "ipython",
    "version": 3
   },
   "file_extension": ".py",
   "mimetype": "text/x-python",
   "name": "python",
   "nbconvert_exporter": "python",
   "pygments_lexer": "ipython3",
   "version": "3.11.9"
  }
 },
 "nbformat": 4,
 "nbformat_minor": 2
}
