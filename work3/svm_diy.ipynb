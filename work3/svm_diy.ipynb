{
 "cells": [
  {
   "cell_type": "code",
   "execution_count": 42,
   "metadata": {},
   "outputs": [],
   "source": [
    "import scipy.io\n",
    "from sklearn.model_selection import train_test_split\n",
    "from sklearn.preprocessing import LabelBinarizer\n",
    "from sklearn.metrics import accuracy_score\n",
    "import torch\n",
    "import numpy as np"
   ]
  },
  {
   "cell_type": "code",
   "execution_count": 43,
   "metadata": {},
   "outputs": [],
   "source": [
    "# 分割数据集（无用）\n",
    "def data_split(data, test_size):\n",
    "    trn_data = {}\n",
    "    val_data = {}\n",
    "\n",
    "    for label, data in data.items():\n",
    "        lens = len(data[label])\n",
    "        print(lens)\n",
    "        trn_data[label] = data[: lens * (1 - test_size)]\n",
    "        val_data[label] = data[lens * (1 - test_size) :]\n",
    "    \n",
    "    return trn_data, val_data"
   ]
  },
  {
   "cell_type": "code",
   "execution_count": 44,
   "metadata": {},
   "outputs": [],
   "source": [
    "device = \"cuda\" if torch.cuda.is_available() else \"cpu\""
   ]
  },
  {
   "cell_type": "code",
   "execution_count": 45,
   "metadata": {},
   "outputs": [
    {
     "name": "stdout",
     "output_type": "stream",
     "text": [
      "<class 'numpy.ndarray'>\n",
      "<class 'numpy.ndarray'>\n",
      "1000\n"
     ]
    }
   ],
   "source": [
    "# 读取mat\n",
    "trn_mat = scipy.io.loadmat(\"data/train_data.mat\")\n",
    "trn_data = trn_mat[\"train\"]\n",
    "# print(len(trn_data))\n",
    "x_len = len(trn_data)\n",
    "\n",
    "# 标注数据label\n",
    "trn_label = [i + 1 for i in range(x_len)]\n",
    "# print(trn_label)\n",
    "\n",
    "# 将label与data组合为字典\n",
    "trn_dict = {}\n",
    "for i in range(x_len):\n",
    "    trn_dict[i+1] = trn_data[i]\n",
    "# print(len(trn_dict))\n",
    "print(type(trn_dict[1]))\n",
    "\n",
    "# 读取测试集\n",
    "val_mat = scipy.io.loadmat('data/test_data.mat')\n",
    "val_data = val_mat['test']\n",
    "val_data = val_data\n",
    "print(type(val_data[1]))\n",
    "print(len(val_data))"
   ]
  },
  {
   "cell_type": "code",
   "execution_count": 46,
   "metadata": {},
   "outputs": [],
   "source": [
    "# 定义SVM\n",
    "class LinearSVM:\n",
    "    # 定义学习率、正则化强度、迭代次数\n",
    "    def __init__(self, lr=0.01, reg=1e-5, num_iter=1000):\n",
    "        self.lr = lr\n",
    "        self.reg = reg\n",
    "        self.num_iter = num_iter\n",
    "        \n",
    "    # 计算损失和梯度\n",
    "    def compute_loss_and_grad(self, x, y):\n",
    "        num_trn = x.shape[0]\n",
    "        num_cls = np.max(y) # 样本类别的数量，在预处理数据时已+1，此处无需+1\n",
    "        scores = x.dot(self.W)  # 获取全分数矩阵\n",
    "        correct_cls_scores = scores[np.arange(num_trn), y] # 提取正确类别的分数 \n",
    "        \n",
    "        margins = np.maximum(0, scores - correct_cls_scores[:, np.newaxis] + 1) # 计算损失边缘\n",
    "        margins[np.arange(num_trn), y] = 0  # 令正确分类损失为0\n",
    "        loss = np.sum(margins) / num_trn    # 计算损失\n",
    "        loss += 0.5 * self.reg * np.sum(self.W * self.W)    # 对损失进行正则化处理，防止过拟合\n",
    "        \n",
    "        margins[margins>0] = 1  # 将边缘损失矩阵大于零的部分设为1，方便计算梯度\n",
    "        margins[np.arange(num_trn), y] = -np.sum(margins, axis=1)   \n",
    "        dW = x.T.dot(margins) / num_trn # 计算权重矩阵的梯度取平均值，用于更新模型参数\n",
    "        dW += self.reg * self.W # 正则化梯度，用于惩罚过大的权重\n",
    "        \n",
    "        return loss, dW\n",
    "\n",
    "    # 训练\n",
    "    def fit(self, x, y):\n",
    "        num_trn, dim = x.shape\n",
    "        num_cls = np.max(y) + 1\n",
    "        self.W = 0.001 * np.random.randn(dim, num_cls)  # 生成一个初始权重矩阵\n",
    "\n",
    "        for i in range(self.num_iter):\n",
    "            loss, grad = self.compute_loss_and_grad(x, y)\n",
    "            self.W -= self.lr * grad    # 梯度下降法更新权重\n",
    "            if i % 100 == 0:\n",
    "                print(f\"Iteration {i}/{self.num_iter}, Loss: {loss}\\n {grad[0].shape}\")\n",
    "                \n",
    "    # 预测\n",
    "    def predict(self, x):\n",
    "        scores = x.dot(self.W)  # 利用权重进行预测\n",
    "        if scores.size == 0:\n",
    "            return []  # 如果输入序列为空，则返回空列表\n",
    "        return np.argmax(scores, axis=1)    # 输出得分最高的类别"
   ]
  },
  {
   "cell_type": "code",
   "execution_count": 47,
   "metadata": {},
   "outputs": [
    {
     "name": "stdout",
     "output_type": "stream",
     "text": [
      "(200, 15, 28, 28)\n"
     ]
    },
    {
     "ename": "ValueError",
     "evalue": "cannot reshape array of size 2352000 into shape (2200,784)",
     "output_type": "error",
     "traceback": [
      "\u001b[0;31m---------------------------------------------------------------------------\u001b[0m",
      "\u001b[0;31mValueError\u001b[0m                                Traceback (most recent call last)",
      "Cell \u001b[0;32mIn[47], line 13\u001b[0m\n\u001b[1;32m     10\u001b[0m \u001b[38;5;28mprint\u001b[39m(x_trn\u001b[38;5;241m.\u001b[39mshape)\n\u001b[1;32m     12\u001b[0m \u001b[38;5;66;03m# 重塑数据\u001b[39;00m\n\u001b[0;32m---> 13\u001b[0m x_trn \u001b[38;5;241m=\u001b[39m \u001b[43mx_trn\u001b[49m\u001b[38;5;241;43m.\u001b[39;49m\u001b[43mreshape\u001b[49m\u001b[43m(\u001b[49m\u001b[38;5;241;43m200\u001b[39;49m\u001b[43m \u001b[49m\u001b[38;5;241;43m*\u001b[39;49m\u001b[43m \u001b[49m\u001b[38;5;241;43m11\u001b[39;49m\u001b[43m,\u001b[49m\u001b[43m \u001b[49m\u001b[38;5;241;43m28\u001b[39;49m\u001b[43m \u001b[49m\u001b[38;5;241;43m*\u001b[39;49m\u001b[43m \u001b[49m\u001b[38;5;241;43m28\u001b[39;49m\u001b[43m)\u001b[49m\u001b[38;5;241m.\u001b[39mastype(np\u001b[38;5;241m.\u001b[39mfloat64)\n\u001b[1;32m     14\u001b[0m y_trn \u001b[38;5;241m=\u001b[39m np\u001b[38;5;241m.\u001b[39mrepeat(np\u001b[38;5;241m.\u001b[39marange(\u001b[38;5;241m200\u001b[39m), \u001b[38;5;241m15\u001b[39m)\n\u001b[1;32m     15\u001b[0m x_val \u001b[38;5;241m=\u001b[39m val_data\u001b[38;5;241m.\u001b[39mreshape(val_data\u001b[38;5;241m.\u001b[39mshape[\u001b[38;5;241m0\u001b[39m], \u001b[38;5;241m-\u001b[39m\u001b[38;5;241m1\u001b[39m)\u001b[38;5;241m.\u001b[39mastype(np\u001b[38;5;241m.\u001b[39mfloat64)\n",
      "\u001b[0;31mValueError\u001b[0m: cannot reshape array of size 2352000 into shape (2200,784)"
     ]
    }
   ],
   "source": [
    "# 收集并转换数据\n",
    "x_trn = []\n",
    "y_trn = []\n",
    "for y, x in trn_dict.items():\n",
    "    x_trn.append(x)\n",
    "    y_trn.append([y] * len(x))\n",
    "\n",
    "x_trn = np.array(x_trn)\n",
    "y_trn = np.array(y_trn)\n",
    "print(x_trn.shape)\n",
    "\n",
    "# 重塑数据\n",
    "x_trn = x_trn.reshape(200 * 15, 28 * 28).astype(np.float64)\n",
    "y_trn = np.repeat(np.arange(200), 15)\n",
    "x_val = val_data.reshape(val_data.shape[0], -1).astype(np.float64)\n",
    "\n",
    "# 计算并减去均值图像\n",
    "mean_img = np.mean(x_trn, axis=0).astype(np.float64)\n",
    "x_trn -= mean_img\n",
    "x_val -= mean_img\n",
    "\n",
    "# 训练 SVM\n",
    "svm = LinearSVM()\n",
    "svm.fit(x_trn, y_trn)"
   ]
  },
  {
   "cell_type": "code",
   "execution_count": null,
   "metadata": {},
   "outputs": [
    {
     "name": "stdout",
     "output_type": "stream",
     "text": [
      "1000\n",
      "[120 172 194   0 135  48 194 134  13  28  91 153 170 147 121  94 116  12\n",
      " 183  68 148 180  39  13 177  91 102   1 199  25  94 155  36 118   5  74\n",
      " 176  18 176 187  65   9  43   3 111  36  79  84 189  75  75 125 163   8\n",
      " 123  70   9 145  56  31  57  24 137 167  81 119 118  47  77 170  36 111\n",
      " 162 116  14 119 182  55 134 137  33 158 147  64   8 163  79 177  90 184\n",
      "  44 119 104 162 101  41 138  71 127   2 155  56 155  71  27 171  52  85\n",
      "  32  16  31   9  30  68 130 194   0  35  40 190 193  70 131  27  90  47\n",
      "  77 123 100 112  82 194  27 123 130 162 104  52 165 188  92 162 177 132\n",
      " 184  32 121 184 121 154 171 166  50 112 157 104 110  53 127  79 171  21\n",
      " 154 152  77 127  84  18  45 142  87 138   9  44  32  31 156 179 131 173\n",
      " 171  45 100 144  72  74  24  43 118 128 154  46 186  90  94  92  40  14\n",
      " 124  92  26  81 156 162  73 149 189  66 101 164 171 115 128  41  94  93\n",
      " 121 193   3  84 158 118  91 166  19 187 162  92 156  78  92 168 110  54\n",
      " 169 166   5 177 147  44  17 109 138 173 159  94  92 191 149  92  72  37\n",
      "  81 165 186 197 196 128 145  30  67 163  73  54  41 113  33  93  70 187\n",
      " 182  45 184  22  80 126 188  13  94  92   0 180 143 127  23  56 172  93\n",
      "  82  94 144  47  73 169  48 171 196  91  18  24  99 161  50 166 196  26\n",
      "  86   9 180  82  45  23  92   9  78 165 126 111  32  68 195   8 154 181\n",
      "  48  70   1  39  82 147 186  94 150 152 185 110 101   2  13 131  63 116\n",
      " 113  79  96  81  46 119  53 120 115  25  84  11  34 181  32 111  22 191\n",
      "  41 106 106  12  96  90 158  97 163 147 175  26 181  89 179  12  99  77\n",
      "  41  96 106 169 166 125  72  66  51 153 128  36 192 110 173  76  97 118\n",
      " 123 133 173 181  70 174 184 176 173  60 152  61 192 142 133  54 196 112\n",
      "  93 122 147 129  36 111 120  57   3 194 127  52 111 146  66  63 166 110\n",
      "  63 108  81  51 155  97 126 110  98 114 153  41  56  52 190 146  99  57\n",
      "  56 166  96   3 135  58 105 167  56 129 155 181 190  79  51 115  48  44\n",
      " 170  86 179  89  59 114  33 167 127 115  38  22 199  47 154  71 107  87\n",
      "  86  60  82 135 193  51  53   4  81 158 192  59  80  70  27 127  63  78\n",
      " 101  36  52 116  63  85 185 112 173 157 133  86 152 129  63 194 169  27\n",
      " 125 111  25  30  41   7  83  95  35 127 165  88  38 195  21  95  75  25\n",
      "  54 194 102 164 148 161 135  74  94  35  56 170  46 193 101 132 128  92\n",
      " 136  28  81  18  19  76  27  97 121  99   9 194 176  97  41 139  93  40\n",
      " 158  21  17  71 196 147 191  13 153  81  25 169   1 153  65 127 162 175\n",
      " 134 103  78 141 167  12 173  16 147   4  10  30  29  30 112 103 149 167\n",
      " 114  98 169   9  73 187  92  22 195  81  45  13  80 140 161 123  90  40\n",
      " 114 114 168 168 169  27 145  78 198  46 137 100 162 105   7  48 137 111\n",
      "  59 173  14 155 125 138  99  36  14  71 125 120  35 157 105 110  36  48\n",
      "  31 148 106  38 191 101  44 122  21  61  90   3 122  56 165 194 100  22\n",
      " 140   4 156  11 164 187 121  64 184 193 153  53 150 168  81 198  81  21\n",
      " 163 175  36 132 136 112 181  64 101  91 120 193 127   0 120   6  11  17\n",
      "  91  75 106 109 187 130  32   0 196 192  91 150 175  27  82 199 138  47\n",
      "  15  72  99 116  91  98 177 101  14  24 170 195  32  90 163 159  98 102\n",
      " 192 182  81  18  69 110 186  70  14  91 169  89 176 124  35   1 110  57\n",
      "  40 139  30  31  81 104  78 183 115 139 162 184 122 182 120 174 159 113\n",
      " 103 187 118  64 127  28 126  46 190  66  84 138 171 118 141 140 118 126\n",
      "  91  40 194  13 181 121 191  40 110 129 154   7 174 199 178  64   4 126\n",
      " 138 123 175  37 127 123  36  28 196 156 105 118 111 197  25  22 118 169\n",
      " 102  49 127 196 115  75  31 103  71 127 185 100 104 107 167 129  37  51\n",
      "  16 102 171 154  81 124   6 127 138  51  27 103  37  19  18  60 125 156\n",
      "   9 127   4 196  27  50 190  70 108 189 130 101   9  32  81  99  71  14\n",
      " 125  37 135  55 145  92  17 110 106  13  81 101 120 135  71 117 197  45\n",
      "  48 103 196 108 169 158  84  86  93 173   9  11  47 178 176  76 109 127\n",
      "  56 132  41 193 146 114 100 164  47  98 198 180 173  25  21  59 162 114\n",
      "  21  60  90  78   0  67 103 179  82   7 100  99  86  78 108  95 143 129\n",
      " 109 188 100  31 139 173 187 118 170 197 131  86  74   3 133 192  92 155\n",
      " 118  29 152 137 100  23  19   4  71 161]\n"
     ]
    }
   ],
   "source": [
    "# 预测\n",
    "predictions = svm.predict(x_val)\n",
    "\n",
    "print(len(x_val))\n",
    "print(predictions)"
   ]
  },
  {
   "cell_type": "code",
   "execution_count": null,
   "metadata": {},
   "outputs": [],
   "source": [
    "# 将预测结果写入csv\n",
    "import pandas as pd\n",
    "\n",
    "submission = pd.read_csv('data/submission.csv', encoding='utf8')\n",
    "submission['预测结果'] = predictions\n",
    "submission.to_csv('data/submission.csv', index=False)"
   ]
  }
 ],
 "metadata": {
  "kernelspec": {
   "display_name": "pytorch",
   "language": "python",
   "name": "python3"
  },
  "language_info": {
   "codemirror_mode": {
    "name": "ipython",
    "version": 3
   },
   "file_extension": ".py",
   "mimetype": "text/x-python",
   "name": "python",
   "nbconvert_exporter": "python",
   "pygments_lexer": "ipython3",
   "version": "3.11.9"
  }
 },
 "nbformat": 4,
 "nbformat_minor": 2
}
