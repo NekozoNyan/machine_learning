{
 "cells": [
  {
   "cell_type": "code",
   "execution_count": 10,
   "metadata": {},
   "outputs": [],
   "source": [
    "import numpy as np\n",
    "from sklearn.datasets import load_iris\n",
    "from sklearn.model_selection import train_test_split"
   ]
  },
  {
   "cell_type": "code",
   "execution_count": 11,
   "metadata": {},
   "outputs": [],
   "source": [
    "iris = load_iris()\n",
    "x = iris.data\n",
    "y = iris.target\n",
    "\n",
    "x_trn, x_val, y_trn, y_val = train_test_split(x, y, test_size=0.2, random_state=21)"
   ]
  },
  {
   "cell_type": "code",
   "execution_count": 12,
   "metadata": {},
   "outputs": [],
   "source": [
    "# 先验概率\n",
    "def calculate_prior(y):\n",
    "    classes, cnt = np.unique(y, return_counts=True)\n",
    "    prior = cnt / y.shape[0]\n",
    "    return classes, prior\n",
    "\n",
    "# 每个类别下特征的均值和标准差\n",
    "def calculate_statistics(x,y):\n",
    "    classes = np.unique(y)\n",
    "    mean = np.zeros((len(classes), x.shape[1]), dtype=np.float64)\n",
    "    std = np.zeros((len(classes), x.shape[1]), dtype=np.float64)\n",
    "    \n",
    "    for idx, cls in enumerate(classes):\n",
    "        x_cls = x[y==cls]\n",
    "        mean[idx, : ] = x_cls.mean(axis=0)\n",
    "        std[idx, : ] = x_cls.std(axis=0)\n",
    "    \n",
    "    return mean, std\n",
    "\n",
    "# 每个类别下的特征似然\n",
    "def calculate_likelihood(mean, std, x):\n",
    "    e = np.exp(-((x - mean) ** 2 / (2 * std**2)))\n",
    "    likelihood = (1 / (np.sqrt(2 * np.pi) * std)) * e\n",
    "    return likelihood\n",
    "\n",
    "# 预测（取对处理）\n",
    "def predict(X, classes, prior, mean, std):\n",
    "    ret = []\n",
    "    for x in X:\n",
    "        pos = np.log(prior)\n",
    "        for idx, cls in enumerate(classes):\n",
    "            likelihood = calculate_likelihood(mean[idx], std[idx], x)\n",
    "            pos[idx] += np.sum(np.log(likelihood))\n",
    "        ret.append(classes[np.argmax(pos)])\n",
    "    return ret"
   ]
  },
  {
   "cell_type": "code",
   "execution_count": 13,
   "metadata": {},
   "outputs": [
    {
     "name": "stdout",
     "output_type": "stream",
     "text": [
      "The accuracy: 0.9666666666666667\n"
     ]
    }
   ],
   "source": [
    "# train\n",
    "classes, prior = calculate_prior(y_trn)\n",
    "mean, std = calculate_statistics(x_trn, y_trn)\n",
    "\n",
    "# predict \n",
    "y_pred = predict(x_val, classes, prior, mean, std)\n",
    "acc = np.mean(y_pred == y_val)\n",
    "print(f\"The accuracy: {acc}\")"
   ]
  },
  {
   "cell_type": "code",
   "execution_count": 16,
   "metadata": {},
   "outputs": [],
   "source": [
    "import pandas as pd\n",
    "\n",
    "result = list(iris.target_names[y] for y in y_pred)\n",
    "res = pd.DataFrame({'data_val':list(x_val), 'target_pred':result})\n",
    "res.to_csv('results.csv', index=False)"
   ]
  }
 ],
 "metadata": {
  "kernelspec": {
   "display_name": "pytorch",
   "language": "python",
   "name": "python3"
  },
  "language_info": {
   "codemirror_mode": {
    "name": "ipython",
    "version": 3
   },
   "file_extension": ".py",
   "mimetype": "text/x-python",
   "name": "python",
   "nbconvert_exporter": "python",
   "pygments_lexer": "ipython3",
   "version": "3.11.8"
  }
 },
 "nbformat": 4,
 "nbformat_minor": 2
}
